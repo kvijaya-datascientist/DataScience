{
 "cells": [
  {
   "cell_type": "code",
   "execution_count": 2,
   "id": "3a2f47d5",
   "metadata": {},
   "outputs": [],
   "source": [
    "import evaluate\n",
    "from rouge_score import rouge_scorer"
   ]
  },
  {
   "cell_type": "markdown",
   "id": "a7821b98",
   "metadata": {},
   "source": [
    "BLEU"
   ]
  },
  {
   "cell_type": "code",
   "execution_count": 6,
   "id": "73f96f43",
   "metadata": {},
   "outputs": [
    {
     "name": "stdout",
     "output_type": "stream",
     "text": [
      "{'bleu': 1.0, 'precisions': [1.0, 1.0, 1.0, 1.0], 'brevity_penalty': 1.0, 'length_ratio': 1.1666666666666667, 'translation_length': 7, 'reference_length': 6}\n"
     ]
    }
   ],
   "source": [
    "# Define the candidate predictions and reference sentences\n",
    "predictions = [\"hello there general kenobi\", \"foo bar foobar\"]\n",
    "references = [[\"hello there general kenobi\", \"hello there !\"],[\"foo bar foobar\"]]\n",
    "\n",
    "# Load the BLEU evaluation metric\n",
    "bleu = evaluate.load('bleu')\n",
    "\n",
    "# Compute the BLEU score\n",
    "result = bleu.compute(predictions = predictions, references=references)\n",
    "print(result)"
   ]
  },
  {
   "cell_type": "markdown",
   "id": "d40ccdb2",
   "metadata": {},
   "source": [
    "ROUGE"
   ]
  },
  {
   "cell_type": "code",
   "execution_count": 3,
   "id": "8098a6f8",
   "metadata": {},
   "outputs": [
    {
     "name": "stdout",
     "output_type": "stream",
     "text": [
      "{'rouge1': 1.0, 'rouge2': 1.0, 'rougeL': 1.0, 'rougeLsum': 1.0}\n"
     ]
    }
   ],
   "source": [
    "import evaluate\n",
    "from rouge_score import rouge_scorer\n",
    "\n",
    "# Define the candidate predictions and reference sentences\n",
    "predictions = [\"hello there\", \"general kenobi\"]\n",
    "references = [\"hello there\", \"general kenobi\"]\n",
    "\n",
    "# Load the ROGUE evaluation metric\n",
    "rouge = evaluate.load('rouge')\n",
    "\n",
    "# Compute the ROUGE score\n",
    "result = rouge.compute(predictions=predictions, references=references)\n",
    "print(result)"
   ]
  },
  {
   "cell_type": "code",
   "execution_count": null,
   "id": "1c858394",
   "metadata": {},
   "outputs": [],
   "source": []
  }
 ],
 "metadata": {
  "kernelspec": {
   "display_name": "Python 3 (ipykernel)",
   "language": "python",
   "name": "python3"
  },
  "language_info": {
   "codemirror_mode": {
    "name": "ipython",
    "version": 3
   },
   "file_extension": ".py",
   "mimetype": "text/x-python",
   "name": "python",
   "nbconvert_exporter": "python",
   "pygments_lexer": "ipython3",
   "version": "3.10.11"
  }
 },
 "nbformat": 4,
 "nbformat_minor": 5
}
