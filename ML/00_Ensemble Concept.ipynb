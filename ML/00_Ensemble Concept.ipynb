{
 "cells": [
  {
   "cell_type": "markdown",
   "id": "740629a4",
   "metadata": {},
   "source": [
    "# Heart attack analysis & prediction\n",
    "\n",
    "find the patients with higher and lower chances of heart attack using various features.\n",
    "\n",
    "0 = less chance of heart attack\n",
    "\n",
    "1 = more chance of heart attack"
   ]
  },
  {
   "cell_type": "code",
   "execution_count": null,
   "id": "535c00c0",
   "metadata": {},
   "outputs": [],
   "source": [
    "import numpy as np\n",
    "import pandas as pd\n",
    "import matplotlib.pyplot as plt\n",
    "\n",
    "from sklearn.model_selection import train_test_split\n",
    "from sklearn.metrics import accuracy_score, roc_auc_score\n",
    "from sklearn.preprocessing import StandardScaler\n",
    "\n",
    "from sklearn.ensemble import RandomForestClassifier\n",
    "from sklearn.linear_model import LogisticRegression, SGDClassifier\n",
    "\n",
    "seed=40"
   ]
  },
  {
   "cell_type": "markdown",
   "id": "462f2055-9d1c-4d0f-8b26-643d816db6e7",
   "metadata": {},
   "source": [
    "# Averaging (Regression)"
   ]
  },
  {
   "cell_type": "code",
   "execution_count": 2,
   "id": "6394af7b-e37e-486e-b6f2-ab8355fafa4d",
   "metadata": {},
   "outputs": [],
   "source": [
    "df = pd.read_csv('dataset/heart.csv')"
   ]
  },
  {
   "cell_type": "code",
   "execution_count": 3,
   "id": "6d86c113-e0cf-46a1-b6bf-244d8a30fd9c",
   "metadata": {},
   "outputs": [
    {
     "data": {
      "text/html": [
       "<div>\n",
       "<style scoped>\n",
       "    .dataframe tbody tr th:only-of-type {\n",
       "        vertical-align: middle;\n",
       "    }\n",
       "\n",
       "    .dataframe tbody tr th {\n",
       "        vertical-align: top;\n",
       "    }\n",
       "\n",
       "    .dataframe thead th {\n",
       "        text-align: right;\n",
       "    }\n",
       "</style>\n",
       "<table border=\"1\" class=\"dataframe\">\n",
       "  <thead>\n",
       "    <tr style=\"text-align: right;\">\n",
       "      <th></th>\n",
       "      <th>age</th>\n",
       "      <th>sex</th>\n",
       "      <th>cp</th>\n",
       "      <th>trtbps</th>\n",
       "      <th>chol</th>\n",
       "      <th>fbs</th>\n",
       "      <th>restecg</th>\n",
       "      <th>thalachh</th>\n",
       "      <th>exng</th>\n",
       "      <th>oldpeak</th>\n",
       "      <th>slp</th>\n",
       "      <th>caa</th>\n",
       "      <th>thall</th>\n",
       "      <th>output</th>\n",
       "    </tr>\n",
       "  </thead>\n",
       "  <tbody>\n",
       "    <tr>\n",
       "      <th>0</th>\n",
       "      <td>63</td>\n",
       "      <td>1</td>\n",
       "      <td>3</td>\n",
       "      <td>145</td>\n",
       "      <td>233</td>\n",
       "      <td>1</td>\n",
       "      <td>0</td>\n",
       "      <td>150</td>\n",
       "      <td>0</td>\n",
       "      <td>2.3</td>\n",
       "      <td>0</td>\n",
       "      <td>0</td>\n",
       "      <td>1</td>\n",
       "      <td>1</td>\n",
       "    </tr>\n",
       "    <tr>\n",
       "      <th>1</th>\n",
       "      <td>37</td>\n",
       "      <td>1</td>\n",
       "      <td>2</td>\n",
       "      <td>130</td>\n",
       "      <td>250</td>\n",
       "      <td>0</td>\n",
       "      <td>1</td>\n",
       "      <td>187</td>\n",
       "      <td>0</td>\n",
       "      <td>3.5</td>\n",
       "      <td>0</td>\n",
       "      <td>0</td>\n",
       "      <td>2</td>\n",
       "      <td>1</td>\n",
       "    </tr>\n",
       "    <tr>\n",
       "      <th>2</th>\n",
       "      <td>41</td>\n",
       "      <td>0</td>\n",
       "      <td>1</td>\n",
       "      <td>130</td>\n",
       "      <td>204</td>\n",
       "      <td>0</td>\n",
       "      <td>0</td>\n",
       "      <td>172</td>\n",
       "      <td>0</td>\n",
       "      <td>1.4</td>\n",
       "      <td>2</td>\n",
       "      <td>0</td>\n",
       "      <td>2</td>\n",
       "      <td>1</td>\n",
       "    </tr>\n",
       "  </tbody>\n",
       "</table>\n",
       "</div>"
      ],
      "text/plain": [
       "   age  sex  cp  trtbps  chol  fbs  restecg  thalachh  exng  oldpeak  slp   \n",
       "0   63    1   3     145   233    1        0       150     0      2.3    0  \\\n",
       "1   37    1   2     130   250    0        1       187     0      3.5    0   \n",
       "2   41    0   1     130   204    0        0       172     0      1.4    2   \n",
       "\n",
       "   caa  thall  output  \n",
       "0    0      1       1  \n",
       "1    0      2       1  \n",
       "2    0      2       1  "
      ]
     },
     "execution_count": 3,
     "metadata": {},
     "output_type": "execute_result"
    }
   ],
   "source": [
    "df.head(3)"
   ]
  },
  {
   "cell_type": "code",
   "execution_count": 4,
   "id": "82b004d7-b381-4f21-954a-cddf4576455a",
   "metadata": {},
   "outputs": [],
   "source": [
    "target = df['output']\n",
    "\n",
    "#dropping target column(output) from train data\n",
    "train = df.drop('output', axis=1)"
   ]
  },
  {
   "cell_type": "code",
   "execution_count": 5,
   "id": "c9238821-17a8-4134-a418-20487fb451c5",
   "metadata": {},
   "outputs": [],
   "source": [
    "#normalizing the train dataset\n",
    "scaled_train = StandardScaler().fit_transform(train)"
   ]
  },
  {
   "cell_type": "code",
   "execution_count": 33,
   "id": "75bbd44b",
   "metadata": {},
   "outputs": [
    {
     "data": {
      "text/plain": [
       "((303, 13), (303,))"
      ]
     },
     "execution_count": 33,
     "metadata": {},
     "output_type": "execute_result"
    }
   ],
   "source": [
    "#plt.scatter(train,target)\n",
    "train.shape  , target.shape"
   ]
  },
  {
   "cell_type": "code",
   "execution_count": 7,
   "id": "e0529656-b215-4c3f-825f-c3f55d4662fa",
   "metadata": {},
   "outputs": [],
   "source": [
    "#splitting data into train, test datasets\n",
    "x_train, x_test, y_train, y_test = train_test_split(train, target, test_size=0.2, random_state=seed)"
   ]
  },
  {
   "cell_type": "code",
   "execution_count": 42,
   "id": "5ae4933c",
   "metadata": {},
   "outputs": [
    {
     "name": "stdout",
     "output_type": "stream",
     "text": [
      "ensemble learning accuracy: 85.25%\n",
      "ensemble learning AUC score: 0.847\n"
     ]
    }
   ],
   "source": [
    "#model building\n",
    "model_1 = RandomForestClassifier(random_state=seed) \n",
    "model_2 = LogisticRegression(random_state=seed, max_iter=1000)\n",
    "model_3 = SGDClassifier(random_state=seed)\n",
    "\n",
    "#training\n",
    "model_1.fit(x_train, y_train)\n",
    "model_2.fit(x_train, y_train)\n",
    "model_3.fit(x_train, y_train)\n",
    "\n",
    "#predictions\n",
    "pred_1 = model_1.predict(x_test)\n",
    "pred_2 = model_2.predict(x_test)\n",
    "pred_3 = model_3.predict(x_test)\n",
    "pred_4 = model_4.predict(x_test)\n",
    "\n",
    "\n",
    "#averaging \n",
    "pred_final = np.round((pred_1 + pred_2 + pred_3) / 3 )\n",
    "\n",
    "#evaluation\n",
    "accuracy = round(accuracy_score(pred_final, y_test)*100,2)\n",
    "auc = round(roc_auc_score(y_test, pred_final), 3)\n",
    "\n",
    "print(f'ensemble learning accuracy: {accuracy}%')\n",
    "print(f'ensemble learning AUC score: {auc}')"
   ]
  },
  {
   "cell_type": "code",
   "execution_count": 43,
   "id": "09fd257b",
   "metadata": {},
   "outputs": [
    {
     "name": "stdout",
     "output_type": "stream",
     "text": [
      "model_1 accuracy:83.61%\n",
      "model_2 accuracy: 90.16%\n",
      "model_4 accuracy: 52.46%\n"
     ]
    }
   ],
   "source": [
    "model_1_accuracy = round(accuracy_score(pred_1 ,y_test)*100,2)\n",
    "print(f'model_1 accuracy:{model_1_accuracy}%')\n",
    "\n",
    "model_2_accuracy = round(accuracy_score(pred_2, y_test)*100,2)\n",
    "print(f'model_2 accuracy: {model_2_accuracy}%')\n",
    "\n",
    "model_3_accuracy = round(accuracy_score(pred_3, y_test)*100, 2)\n",
    "print(f'model_4 accuracy: {model_3_accuracy}%')"
   ]
  },
  {
   "cell_type": "raw",
   "id": "2d24118e",
   "metadata": {},
   "source": [
    "Weighted Average:\n",
    "\n",
    "here, we are giving highest weightage to model_2(60%), model_1(30%) and model_3(10%)"
   ]
  },
  {
   "cell_type": "code",
   "execution_count": 44,
   "id": "1e9c03dd",
   "metadata": {},
   "outputs": [
    {
     "name": "stdout",
     "output_type": "stream",
     "text": [
      "weighted accuracy: 90.164%\n",
      "weighted AUC score: 0.913\n"
     ]
    }
   ],
   "source": [
    "pred_final_1 = np.round(0.3*pred_1 + 0.6*pred_2 + 0.1*pred_3)\n",
    "\n",
    "#evaluation\n",
    "weighted_accuracy = round(accuracy_score(pred_final_1, y_test)*100, 3)\n",
    "weighted_auc = round(roc_auc_score(pred_final_1, y_test), 3)\n",
    "\n",
    "print(f'weighted accuracy: {weighted_accuracy}%')\n",
    "print(f'weighted AUC score: {weighted_auc}')"
   ]
  },
  {
   "cell_type": "markdown",
   "id": "1f543859",
   "metadata": {},
   "source": [
    "# Max Voting (Classifier)"
   ]
  },
  {
   "cell_type": "code",
   "execution_count": 45,
   "id": "641150be",
   "metadata": {},
   "outputs": [],
   "source": [
    "from sklearn.ensemble import VotingClassifier\n",
    "from sklearn.neighbors import KNeighborsClassifier"
   ]
  },
  {
   "cell_type": "code",
   "execution_count": 48,
   "id": "1b913879",
   "metadata": {},
   "outputs": [],
   "source": [
    "model_4 = KNeighborsClassifier()\n",
    "\n",
    "#voting classifier\n",
    "final_model = VotingClassifier(\n",
    "                 estimators=[ (\"rf\",model_1), (\"lr\",model_2),(\"knn\",model_4) ],\n",
    "                 voting='hard'\n",
    "               )\n",
    "\n",
    "\n",
    "#training\n",
    "final_model.fit(x_train, y_train)\n",
    "\n",
    "#prediction\n",
    "prediction = final_model.predict(x_test)"
   ]
  },
  {
   "cell_type": "code",
   "execution_count": 49,
   "id": "3259abde",
   "metadata": {},
   "outputs": [
    {
     "name": "stdout",
     "output_type": "stream",
     "text": [
      "accuracy: 90.164%\n",
      "AUC score: 0.913\n"
     ]
    }
   ],
   "source": [
    "#evaluation\n",
    "accuracy = round(accuracy_score(prediction, y_test)*100, 3)\n",
    "roc = round(roc_auc_score(prediction, y_test),3)\n",
    "\n",
    "print(f'accuracy: {accuracy}%')\n",
    "print(f'AUC score: {roc}')"
   ]
  },
  {
   "cell_type": "raw",
   "id": "0db97746",
   "metadata": {},
   "source": [
    "Dataset ref : https://www.kaggle.com/datasets/rashikrahmanpritom/heart-attack-analysis-prediction-dataset\n",
    "\n",
    "article ref:  https://www.kaggle.com/code/nareshbhat/eda-classification-ensemble-92-accuracy"
   ]
  }
 ],
 "metadata": {
  "kernelspec": {
   "display_name": "Python 3 (ipykernel)",
   "language": "python",
   "name": "python3"
  },
  "language_info": {
   "codemirror_mode": {
    "name": "ipython",
    "version": 3
   },
   "file_extension": ".py",
   "mimetype": "text/x-python",
   "name": "python",
   "nbconvert_exporter": "python",
   "pygments_lexer": "ipython3",
   "version": "3.10.9"
  }
 },
 "nbformat": 4,
 "nbformat_minor": 5
}
