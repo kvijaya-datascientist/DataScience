{
 "cells": [
  {
   "cell_type": "code",
   "execution_count": 1,
   "id": "3c05e7ee",
   "metadata": {},
   "outputs": [],
   "source": [
    "import numpy as np\n",
    "import pandas as pd"
   ]
  },
  {
   "cell_type": "code",
   "execution_count": 2,
   "id": "346613fe",
   "metadata": {},
   "outputs": [],
   "source": [
    "#z = 0.35 + (0.8 * 0.1) + (0.3 * 0.6) + (-0.2 * 0.4) = 0.53\n",
    "z = 0.53"
   ]
  },
  {
   "cell_type": "code",
   "execution_count": 4,
   "id": "995b03ce",
   "metadata": {},
   "outputs": [
    {
     "data": {
      "text/plain": [
       "0.6294831119673949"
      ]
     },
     "execution_count": 4,
     "metadata": {},
     "output_type": "execute_result"
    }
   ],
   "source": [
    "# Sigmoid - range: [0,1]\n",
    "def sigmoid(x):\n",
    "    return 1 / (1 + np.exp(-x))\n",
    "\n",
    "sigmoid(z) # based on threshold, we will classify this as 1 (activated) or 0 (not-activated)"
   ]
  },
  {
   "cell_type": "code",
   "execution_count": 5,
   "id": "723f7bd8",
   "metadata": {},
   "outputs": [
    {
     "data": {
      "text/plain": [
       "0.53"
      ]
     },
     "execution_count": 5,
     "metadata": {},
     "output_type": "execute_result"
    }
   ],
   "source": [
    "#ReLU - range: [0, infinity]\n",
    "\n",
    "def relu(x):\n",
    "    return np.maximum(0, x)\n",
    "\n",
    "relu(z)  "
   ]
  },
  {
   "cell_type": "code",
   "execution_count": 7,
   "id": "84ef4968",
   "metadata": {},
   "outputs": [
    {
     "data": {
      "text/plain": [
       "0.48538109060537155"
      ]
     },
     "execution_count": 7,
     "metadata": {},
     "output_type": "execute_result"
    }
   ],
   "source": [
    "#Tanh - range: [-1 , 1]\n",
    "def tanh(x):\n",
    "    return np.tanh(x)\n",
    "tanh(z)"
   ]
  },
  {
   "cell_type": "code",
   "execution_count": 9,
   "id": "63250d12",
   "metadata": {},
   "outputs": [
    {
     "data": {
      "text/plain": [
       "1.0"
      ]
     },
     "execution_count": 9,
     "metadata": {},
     "output_type": "execute_result"
    }
   ],
   "source": [
    "#Softmax - check this once\n",
    "def softmax(x):\n",
    "    exp_x = np.exp(x)\n",
    "    return exp_x / np.sum(exp_x, axis=0, keepdims=True) # axis=1\n",
    "\n",
    "softmax(z)"
   ]
  },
  {
   "cell_type": "code",
   "execution_count": 10,
   "id": "1117c58d",
   "metadata": {},
   "outputs": [
    {
     "data": {
      "text/plain": [
       "0.53"
      ]
     },
     "execution_count": 10,
     "metadata": {},
     "output_type": "execute_result"
    }
   ],
   "source": [
    "#Leaky ReLU - range: [-infinity , infinity]\n",
    "def leaky_relu(x, alpha=0.01):\n",
    "    return np.maximum(alpha * x, x)\n",
    "\n",
    "leaky_relu(z)"
   ]
  },
  {
   "cell_type": "code",
   "execution_count": null,
   "id": "9ce53e05",
   "metadata": {},
   "outputs": [],
   "source": []
  }
 ],
 "metadata": {
  "kernelspec": {
   "display_name": "Python 3 (ipykernel)",
   "language": "python",
   "name": "python3"
  },
  "language_info": {
   "codemirror_mode": {
    "name": "ipython",
    "version": 3
   },
   "file_extension": ".py",
   "mimetype": "text/x-python",
   "name": "python",
   "nbconvert_exporter": "python",
   "pygments_lexer": "ipython3",
   "version": "3.8.16"
  }
 },
 "nbformat": 4,
 "nbformat_minor": 5
}
