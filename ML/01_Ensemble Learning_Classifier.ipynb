{
 "cells": [
  {
   "cell_type": "markdown",
   "id": "b9ba3352",
   "metadata": {},
   "source": [
    "# Heart attack analysis & prediction\n",
    "\n",
    "find the patients with higher and lower chances of heart attack using various features.\n",
    "\n",
    "0 = less chance of heart attack\n",
    "\n",
    "1 = more chance of heart attack"
   ]
  },
  {
   "cell_type": "code",
   "execution_count": 14,
   "id": "ee486517",
   "metadata": {},
   "outputs": [],
   "source": [
    "import pandas as pd\n",
    "import numpy as np\n",
    "from collections import Counter\n",
    "\n",
    "import matplotlib.pyplot as plt\n",
    "\n",
    "\n",
    "from sklearn.preprocessing import StandardScaler\n",
    "\n",
    "from sklearn.model_selection import train_test_split\n",
    "\n",
    "from sklearn.ensemble import RandomForestClassifier\n",
    "from sklearn.neighbors import KNeighborsClassifier\n",
    "from sklearn.linear_model import LogisticRegression\n",
    "from sklearn.tree import DecisionTreeClassifier\n",
    "from sklearn.svm import SVC\n",
    "from xgboost import XGBClassifier\n",
    "from sklearn.naive_bayes import GaussianNB\n",
    "\n",
    "from sklearn.ensemble import VotingClassifier\n",
    "from sklearn.metrics import accuracy_score,roc_auc_score,confusion_matrix,classification_report\n",
    "\n",
    "seed=42"
   ]
  },
  {
   "cell_type": "code",
   "execution_count": 2,
   "id": "9356e189",
   "metadata": {},
   "outputs": [
    {
     "data": {
      "text/html": [
       "<div>\n",
       "<style scoped>\n",
       "    .dataframe tbody tr th:only-of-type {\n",
       "        vertical-align: middle;\n",
       "    }\n",
       "\n",
       "    .dataframe tbody tr th {\n",
       "        vertical-align: top;\n",
       "    }\n",
       "\n",
       "    .dataframe thead th {\n",
       "        text-align: right;\n",
       "    }\n",
       "</style>\n",
       "<table border=\"1\" class=\"dataframe\">\n",
       "  <thead>\n",
       "    <tr style=\"text-align: right;\">\n",
       "      <th></th>\n",
       "      <th>age</th>\n",
       "      <th>sex</th>\n",
       "      <th>cp</th>\n",
       "      <th>trtbps</th>\n",
       "      <th>chol</th>\n",
       "      <th>fbs</th>\n",
       "      <th>restecg</th>\n",
       "      <th>thalachh</th>\n",
       "      <th>exng</th>\n",
       "      <th>oldpeak</th>\n",
       "      <th>slp</th>\n",
       "      <th>caa</th>\n",
       "      <th>thall</th>\n",
       "      <th>output</th>\n",
       "    </tr>\n",
       "  </thead>\n",
       "  <tbody>\n",
       "    <tr>\n",
       "      <th>0</th>\n",
       "      <td>63</td>\n",
       "      <td>1</td>\n",
       "      <td>3</td>\n",
       "      <td>145</td>\n",
       "      <td>233</td>\n",
       "      <td>1</td>\n",
       "      <td>0</td>\n",
       "      <td>150</td>\n",
       "      <td>0</td>\n",
       "      <td>2.3</td>\n",
       "      <td>0</td>\n",
       "      <td>0</td>\n",
       "      <td>1</td>\n",
       "      <td>1</td>\n",
       "    </tr>\n",
       "    <tr>\n",
       "      <th>1</th>\n",
       "      <td>37</td>\n",
       "      <td>1</td>\n",
       "      <td>2</td>\n",
       "      <td>130</td>\n",
       "      <td>250</td>\n",
       "      <td>0</td>\n",
       "      <td>1</td>\n",
       "      <td>187</td>\n",
       "      <td>0</td>\n",
       "      <td>3.5</td>\n",
       "      <td>0</td>\n",
       "      <td>0</td>\n",
       "      <td>2</td>\n",
       "      <td>1</td>\n",
       "    </tr>\n",
       "    <tr>\n",
       "      <th>2</th>\n",
       "      <td>41</td>\n",
       "      <td>0</td>\n",
       "      <td>1</td>\n",
       "      <td>130</td>\n",
       "      <td>204</td>\n",
       "      <td>0</td>\n",
       "      <td>0</td>\n",
       "      <td>172</td>\n",
       "      <td>0</td>\n",
       "      <td>1.4</td>\n",
       "      <td>2</td>\n",
       "      <td>0</td>\n",
       "      <td>2</td>\n",
       "      <td>1</td>\n",
       "    </tr>\n",
       "  </tbody>\n",
       "</table>\n",
       "</div>"
      ],
      "text/plain": [
       "   age  sex  cp  trtbps  chol  fbs  ...  exng  oldpeak  slp  caa  thall  output\n",
       "0   63    1   3     145   233    1  ...     0      2.3    0    0      1       1\n",
       "1   37    1   2     130   250    0  ...     0      3.5    0    0      2       1\n",
       "2   41    0   1     130   204    0  ...     0      1.4    2    0      2       1\n",
       "\n",
       "[3 rows x 14 columns]"
      ]
     },
     "execution_count": 2,
     "metadata": {},
     "output_type": "execute_result"
    }
   ],
   "source": [
    "#reading dataset\n",
    "data = pd.read_csv('dataset/heart.csv')\n",
    "data.head(3)"
   ]
  },
  {
   "cell_type": "code",
   "execution_count": 3,
   "id": "a00d0d72",
   "metadata": {},
   "outputs": [],
   "source": [
    "y = data['output']\n",
    "x = data.drop('output', axis=1)"
   ]
  },
  {
   "cell_type": "code",
   "execution_count": 4,
   "id": "7729b003",
   "metadata": {},
   "outputs": [],
   "source": [
    "#normalizing the data\n",
    "x_scaled = StandardScaler().fit_transform(x)\n",
    "\n",
    "# splitting the data into train, test data\n",
    "x_train, x_test, y_train, y_test = train_test_split(x, y, test_size=0.2, random_state=seed)"
   ]
  },
  {
   "cell_type": "code",
   "execution_count": 5,
   "id": "f538bcf8",
   "metadata": {},
   "outputs": [
    {
     "name": "stdout",
     "output_type": "stream",
     "text": [
      "[0 1]\n"
     ]
    },
    {
     "data": {
      "text/plain": [
       "Counter({1: 133, 0: 109})"
      ]
     },
     "execution_count": 5,
     "metadata": {},
     "output_type": "execute_result"
    }
   ],
   "source": [
    "print(y_test.unique())\n",
    "Counter(y_train)"
   ]
  },
  {
   "cell_type": "markdown",
   "id": "55be5bba",
   "metadata": {},
   "source": [
    "# Classifier (Max voting) model"
   ]
  },
  {
   "cell_type": "code",
   "execution_count": 6,
   "id": "ea1b2df1",
   "metadata": {},
   "outputs": [
    {
     "name": "stdout",
     "output_type": "stream",
     "text": [
      "Ensembler Classifier Model Accuracy : 91.803%\n",
      "Ensemble Model AUC score: 0.919\n"
     ]
    }
   ],
   "source": [
    "#model building\n",
    "rf_model = RandomForestClassifier(n_estimators=20, max_depth=5, random_state=seed)\n",
    "knn_model = KNeighborsClassifier(n_neighbors=10)\n",
    "lr_model = LogisticRegression(random_state=seed,max_iter=1000)\n",
    "dt_model = DecisionTreeClassifier(criterion='entropy', max_depth=5, random_state=seed)\n",
    "svc_model = SVC(kernel='rbf', C=2)\n",
    "nb_model = GaussianNB()\n",
    "xgb_model = XGBClassifier(learning_rate=0.01, n_estimators=25, max_depth=15,gamma=0.6, subsample=0.52,\n",
    "            colsample_bytree=0.6,seed=27, reg_lambda=2, booster='dart', colsample_bylevel=0.6, colsample_bynode=0.5)\n",
    "\n",
    "#Voting classifier\n",
    "final_model = VotingClassifier(\n",
    "                estimators=[(\"rf\",rf_model), (\"knn\",knn_model), (\"lr\",lr_model), (\"dt\",dt_model), (\"svc\",svc_model), \n",
    "                                             (\"nb\",nb_model), (\"xgb\",xgb_model)],\n",
    "                voting='hard'\n",
    "                  )\n",
    "\n",
    "#training\n",
    "final_model.fit(x_train, y_train)\n",
    "\n",
    "\n",
    "#predictions\n",
    "y_pred = final_model.predict(x_test)\n",
    "\n",
    "#evaluation\n",
    "accuracy = round(accuracy_score(y_pred, y_test)*100, 3)\n",
    "roc = round(roc_auc_score(y_pred, y_test),3)\n",
    "\n",
    "print(f'Ensembler Classifier Model Accuracy : {accuracy}%')\n",
    "print(f'Ensemble Model AUC score: {roc}')"
   ]
  },
  {
   "cell_type": "code",
   "execution_count": 8,
   "id": "8b561d5a",
   "metadata": {},
   "outputs": [
    {
     "name": "stdout",
     "output_type": "stream",
     "text": [
      "[[26  2]\n",
      " [ 3 30]]\n"
     ]
    }
   ],
   "source": [
    "# Ensemble Classifier Model Confusion matrix\n",
    "ensemble_conf_matrix = confusion_matrix(y_pred, y_test)\n",
    "print(ensemble_conf_matrix)"
   ]
  },
  {
   "cell_type": "code",
   "execution_count": 9,
   "id": "51e68810",
   "metadata": {},
   "outputs": [
    {
     "name": "stdout",
     "output_type": "stream",
     "text": [
      "              precision    recall  f1-score   support\n",
      "\n",
      "           0       0.93      0.90      0.91        29\n",
      "           1       0.91      0.94      0.92        32\n",
      "\n",
      "    accuracy                           0.92        61\n",
      "   macro avg       0.92      0.92      0.92        61\n",
      "weighted avg       0.92      0.92      0.92        61\n",
      "\n"
     ]
    }
   ],
   "source": [
    "#Ensemble Classifier Model classification report\n",
    "ens_classification_report = classification_report(y_test, y_pred)\n",
    "print(ens_classification_report)"
   ]
  },
  {
   "cell_type": "raw",
   "id": "497f6281",
   "metadata": {},
   "source": [
    "models accuracy by individual"
   ]
  },
  {
   "cell_type": "code",
   "execution_count": 10,
   "id": "102693e4",
   "metadata": {},
   "outputs": [
    {
     "name": "stdout",
     "output_type": "stream",
     "text": [
      "Random Forest Model Accuracy:88.52%\n",
      "K Nearest Neighbors Model Accuracy:70.49%\n",
      "Logistic Regression Model Accuracy:86.89%\n",
      "Decision Tree Classifier Model Accuracy:81.97%\n",
      "Support Vector Classifier Model Accuracy:70.49%\n",
      "Naive Bayes Classifier Model Accuracy:86.89%\n",
      "Extreme Gradient Boost Classifier Model Accuracy:85.25%\n"
     ]
    }
   ],
   "source": [
    "\n",
    "#training\n",
    "rf_model.fit(x_train, y_train)\n",
    "knn_model.fit(x_train, y_train)\n",
    "lr_model.fit(x_train, y_train)\n",
    "dt_model.fit(x_train, y_train)\n",
    "svc_model.fit(x_train, y_train)\n",
    "nb_model.fit(x_train, y_train)\n",
    "xgb_model.fit(x_train, y_train)\n",
    "\n",
    "#predictions(individual)\n",
    "rf_pred = rf_model.predict(x_test)\n",
    "knn_pred = knn_model.predict(x_test)\n",
    "lr_pred = lr_model.predict(x_test)\n",
    "dt_pred = dt_model.predict(x_test)\n",
    "svc_pred = svc_model.predict(x_test)\n",
    "nb_pred = nb_model.predict(x_test)\n",
    "xgb_pred = xgb_model.predict(x_test)\n",
    "\n",
    "rf_accuracy = round(accuracy_score(rf_pred ,y_test)*100,2)\n",
    "print(f'Random Forest Model Accuracy:{rf_accuracy}%')\n",
    "\n",
    "knn_accuracy = round(accuracy_score(knn_pred ,y_test)*100,2)\n",
    "print(f'K Nearest Neighbors Model Accuracy:{knn_accuracy}%')\n",
    "\n",
    "lr_accuracy = round(accuracy_score(lr_pred ,y_test)*100,2)\n",
    "print(f'Logistic Regression Model Accuracy:{lr_accuracy}%')\n",
    "\n",
    "dt_accuracy = round(accuracy_score(dt_pred ,y_test)*100,2)\n",
    "print(f'Decision Tree Classifier Model Accuracy:{dt_accuracy}%')\n",
    "\n",
    "svc_accuracy = round(accuracy_score(svc_pred ,y_test)*100,2)\n",
    "print(f'Support Vector Classifier Model Accuracy:{svc_accuracy}%')\n",
    "\n",
    "nb_accuracy = round(accuracy_score(nb_pred ,y_test)*100,2)\n",
    "print(f'Naive Bayes Classifier Model Accuracy:{nb_accuracy}%')\n",
    "\n",
    "xgb_accuracy = round(accuracy_score(xgb_pred ,y_test)*100,2)\n",
    "print(f'Extreme Gradient Boost Classifier Model Accuracy:{xgb_accuracy}%')"
   ]
  },
  {
   "cell_type": "code",
   "execution_count": 34,
   "id": "8c403ccc",
   "metadata": {},
   "outputs": [
    {
     "data": {
      "text/plain": [
       "array([[25,  3],\n",
       "       [ 4, 29]])"
      ]
     },
     "execution_count": 34,
     "metadata": {},
     "output_type": "execute_result"
    }
   ],
   "source": [
    "#Random Forest Classifier Model Confusion Matrix\n",
    "rf_conf_matrix = confusion_matrix(rf_pred, y_test)\n",
    "rf_conf_matrix"
   ]
  },
  {
   "cell_type": "code",
   "execution_count": 35,
   "id": "1c5d2290",
   "metadata": {},
   "outputs": [
    {
     "name": "stdout",
     "output_type": "stream",
     "text": [
      "              precision    recall  f1-score   support\n",
      "\n",
      "           0       0.86      0.89      0.88        28\n",
      "           1       0.91      0.88      0.89        33\n",
      "\n",
      "    accuracy                           0.89        61\n",
      "   macro avg       0.88      0.89      0.88        61\n",
      "weighted avg       0.89      0.89      0.89        61\n",
      "\n"
     ]
    }
   ],
   "source": [
    "#Random Forest Model \n",
    "rf_classification_report = classification_report(rf_pred, y_test)\n",
    "print(rf_classification_report)"
   ]
  },
  {
   "cell_type": "code",
   "execution_count": 16,
   "id": "7c8a35a5",
   "metadata": {},
   "outputs": [
    {
     "data": {
      "image/png": "[encoded data removed]",
      "text/plain": [
       "<Figure size 1000x400 with 1 Axes>"
      ]
     },
     "metadata": {},
     "output_type": "display_data"
    }
   ],
   "source": [
    "#Finding important features which causing heart attack\n",
    "\n",
    "imp_feature = pd.DataFrame({'Feature': ['age', 'sex', 'cp', 'trestbps', 'chol', 'fbs', 'restecg', 'thalach',\n",
    "       'exang', 'oldpeak', 'slope', 'ca', 'thal'], 'Importance': xgb_model.feature_importances_})\n",
    "plt.figure(figsize=(10,4))\n",
    "plt.title(\"barplot Represent feature importance \")\n",
    "plt.xlabel(\"importance \")\n",
    "plt.ylabel(\"features\")\n",
    "my_colors = ['r', 'g', 'b', 'k', 'y', 'm', 'c']\n",
    "plt.barh(imp_feature['Feature'],imp_feature['Importance'],color = my_colors)\n",
    "plt.show()"
   ]
  },
  {
   "cell_type": "raw",
   "id": "8c466ec3",
   "metadata": {},
   "source": [
    "EXANG (exercise induced angina (1 = yes; 0 = no))\n",
    "THAL (3 = normal; 6 = fixed defect; 7 = reversable defect)\n",
    "OLDPEAK (ST depression induced by exercise relative to rest)\n",
    "CP (chest pain type)"
   ]
  },
  {
   "cell_type": "markdown",
   "id": "b60298fa",
   "metadata": {},
   "source": [
    "# Conclusion\n",
    "\n",
    "datset ref: https://www.kaggle.com/datasets/rashikrahmanpritom/heart-attack-analysis-prediction-dataset\n",
    "\n",
    "1. Ensemble technique increase the accuracy of the model.\n",
    "\n",
    "2. Random Forest Classifier model gave the best accuracy compared with other models.\n",
    "\n",
    "3. Features(EXANG, THAL, OLDPEAK, CP) are major symotoms/factors for heart attack."
   ]
  },
  {
   "cell_type": "code",
   "execution_count": null,
   "id": "ee1fe36f",
   "metadata": {},
   "outputs": [],
   "source": []
  }
 ],
 "metadata": {
  "kernelspec": {
   "display_name": "Python 3 (ipykernel)",
   "language": "python",
   "name": "python3"
  },
  "language_info": {
   "codemirror_mode": {
    "name": "ipython",
    "version": 3
   },
   "file_extension": ".py",
   "mimetype": "text/x-python",
   "name": "python",
   "nbconvert_exporter": "python",
   "pygments_lexer": "ipython3",
   "version": "3.10.9"
  }
 },
 "nbformat": 4,
 "nbformat_minor": 5
}
