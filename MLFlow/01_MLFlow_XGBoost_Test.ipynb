{
 "cells": [
  {
   "cell_type": "code",
   "execution_count": 24,
   "id": "51069746",
   "metadata": {},
   "outputs": [],
   "source": [
    "import mlflow\n",
    "\n",
    "import pandas as pd\n",
    "import numpy as np\n",
    "from sklearn.model_selection import train_test_split\n",
    "import xgboost as xgb\n",
    "from sklearn.metrics import mean_squared_error,mean_absolute_error,r2_score\n",
    "#import mlflow.xgboost\n"
   ]
  },
  {
   "cell_type": "code",
   "execution_count": 3,
   "id": "af26b4cc",
   "metadata": {},
   "outputs": [
    {
     "name": "stderr",
     "output_type": "stream",
     "text": [
      "2023/06/09 16:28:43 INFO mlflow.tracking.fluent: Autologging successfully enabled for sklearn.\n"
     ]
    },
    {
     "data": {
      "text/plain": [
       "<Experiment: artifact_location='/Users/vijaya/DS_workspace/MLflow/mlruns', creation_time=1686308323509, experiment_id='189366309187576494', last_update_time=1686308323509, lifecycle_stage='active', name='SL-XGBoost-Test1', tags={}>"
      ]
     },
     "execution_count": 3,
     "metadata": {},
     "output_type": "execute_result"
    }
   ],
   "source": [
    "mlflow.set_tracking_uri(\"http://localhost:5002/\")\n",
    "mlflow.autolog()\n",
    "\n",
    "exp_name = \"SL-XGBoost-Test1\"\n",
    "artifact_loc= \"/Users/vijaya/DS_workspace/MLflow/mlruns\"\n",
    "try:\n",
    "    experiment = mlflow.get_experiment_by_name(exp_name)\n",
    "    experiment_id = experiment.experiment_id\n",
    "except AttributeError:\n",
    "    experiment_id = mlflow.create_experiment(name=exp_name,artifact_location=artifact_loc)\n",
    "mlflow.set_experiment(exp_name)"
   ]
  },
  {
   "cell_type": "code",
   "execution_count": 15,
   "id": "7b0c507b",
   "metadata": {},
   "outputs": [
    {
     "name": "stdout",
     "output_type": "stream",
     "text": [
      "Name: SL-XGBoost-Test1\n",
      "Artifact Location: /Users/vijaya/DS_workspace/MLflow/mlruns\n",
      "Experiment-id: 189366309187576494\n",
      "Lifecycle-stage: active\n"
     ]
    }
   ],
   "source": [
    "exp = mlflow.get_experiment(experiment_id)\n",
    "\n",
    "print(f\"Name: {exp.name}\")\n",
    "print(f\"Artifact Location: {exp.artifact_location}\")\n",
    "print(f\"Experiment-id: {exp.experiment_id}\")\n",
    "print(f\"Lifecycle-stage: {exp.lifecycle_stage}\")"
   ]
  },
  {
   "cell_type": "markdown",
   "id": "c389387a",
   "metadata": {},
   "source": [
    "# Building model"
   ]
  },
  {
   "cell_type": "code",
   "execution_count": 29,
   "id": "0d0e2bcb",
   "metadata": {},
   "outputs": [],
   "source": [
    "# 1. loading data\n",
    "source = \"https://raw.githubusercontent.com/stedy/Machine-Learning-with-R-datasets/master/winequality-white.csv\"\n",
    "data=pd.read_csv(source)\n",
    "\n",
    "# 2. splitting data into train, test\n",
    "train, test = train_test_split(data, test_size=0.2, random_state=42)\n",
    "x_train = train.drop(\"quality\", axis=1)\n",
    "x_test = test.drop(\"quality\", axis=1)\n",
    "\n",
    "y_train = train[\"quality\"]\n",
    "y_test = test[\"quality\"]"
   ]
  },
  {
   "cell_type": "markdown",
   "id": "b0902349",
   "metadata": {},
   "source": [
    "# Define model and model metrics tracking"
   ]
  },
  {
   "cell_type": "code",
   "execution_count": 33,
   "id": "b43d887e",
   "metadata": {},
   "outputs": [
    {
     "name": "stderr",
     "output_type": "stream",
     "text": [
      "2023/06/09 17:52:07 WARNING mlflow.xgboost: Failed to log dataset information to MLflow Tracking. Reason: The following failures occurred while performing one or more logging operations: [MlflowException('Failed to perform one or more operations on the run with ID 8ef4423f63f44973ad47f8b1ab056986. Failed operations: [MlflowException(\"API request to endpoint /api/2.0/mlflow/runs/log-inputs failed with error code 404 != 200. Response body: \\'<!doctype html>\\\\n<html lang=en>\\\\n<title>404 Not Found</title>\\\\n<h1>Not Found</h1>\\\\n<p>The requested URL was not found on the server. If you entered the URL manually please check your spelling and try again.</p>\\\\n\\'\")]')]\n"
     ]
    },
    {
     "name": "stdout",
     "output_type": "stream",
     "text": [
      "MLFlow\n",
      "RUN ID: 8ef4423f63f44973ad47f8b1ab056986\n",
      "Experiment ID: 189366309187576494\n",
      "Experiment Name: SL-XGBoost-Test1\n",
      "MLflow Parameters:\n",
      " - max_depth: 7\n",
      " - min_child_weight: 1\n"
     ]
    },
    {
     "name": "stderr",
     "output_type": "stream",
     "text": [
      "2023/06/09 17:52:08 WARNING mlflow.sklearn: Failed to log evaluation dataset information to MLflow Tracking. Reason: API request to endpoint /api/2.0/mlflow/runs/log-inputs failed with error code 404 != 200. Response body: '<!doctype html>\n",
      "<html lang=en>\n",
      "<title>404 Not Found</title>\n",
      "<h1>Not Found</h1>\n",
      "<p>The requested URL was not found on the server. If you entered the URL manually please check your spelling and try again.</p>\n",
      "'\n"
     ]
    },
    {
     "name": "stdout",
     "output_type": "stream",
     "text": [
      "Metrics :\n",
      "- RMSE: 0.6207989684298344\n",
      "- MSE: 0.3853913592035465\n",
      "- R2: 0.5023825344054536\n"
     ]
    }
   ],
   "source": [
    "with mlflow.start_run(experiment_id=exp.experiment_id, run_name='run_3') as run:\n",
    "    run_id = run.info.run_id\n",
    "    experiment_id = run.info.experiment_id\n",
    "    \n",
    "    print(\"MLFlow\")\n",
    "    print(\"RUN ID:\", run_id)\n",
    "    print(\"Experiment ID:\", experiment_id)\n",
    "    print(\"Experiment Name:\", mlflow.get_experiment(experiment_id).name)\n",
    "    \n",
    "    \n",
    "    #model parameters\n",
    "    params = {\n",
    "            'max_depth':7,\n",
    "            'min_child_weight':1,\n",
    "            'random_state':2022\n",
    "            }\n",
    "\n",
    "    \n",
    "    # MLflow parameters\n",
    "    print(\"MLflow Parameters:\")\n",
    "    print(\" - max_depth:\", params['max_depth'])\n",
    "    print(\" - min_child_weight:\", params['min_child_weight'])\n",
    "    \n",
    "    model = xgb.XGBRegressor(**params)\n",
    "    model.fit(x_train, y_train)\n",
    "    \n",
    "     # MLflow Artifacts\n",
    "    prediction = model.predict(x_test)\n",
    "    #print(\"Prediction:\", prediction)\n",
    "    rmse = np.sqrt(mean_squared_error(y_test, prediction))\n",
    "    mse = mean_squared_error(y_test, prediction)\n",
    "    r2 = r2_score(y_test, prediction)\n",
    "    print(\"Metrics :\")\n",
    "    print(\"- RMSE:\", rmse)\n",
    "    print(\"- MSE:\", mse)\n",
    "    print(\"- R2:\", r2)\n",
    "    \n",
    "    \n",
    "    # MLflow metrics\n",
    "    mlflow.log_metric(\"RMSE\", rmse)\n",
    "    mlflow.log_metric(\"MSE\", mse)\n",
    "    mlflow.log_metric(\"R2\", r2)\n",
    "    mlflow.log_metric(\"MaxDepth\", params['max_depth'])\n",
    "    mlflow.log_metric(\"MinChildWeight\", params['min_child_weight'])\n",
    "    mlflow.log_metric(\"RandomState\", params['random_state'])\n",
    "    "
   ]
  },
  {
   "cell_type": "markdown",
   "id": "b12dff68",
   "metadata": {},
   "source": [
    "# Model Register Individually"
   ]
  },
  {
   "cell_type": "code",
   "execution_count": 34,
   "id": "020c8c7b",
   "metadata": {},
   "outputs": [
    {
     "name": "stderr",
     "output_type": "stream",
     "text": [
      "Successfully registered model 'SL-XGBoost-Test1'.\n",
      "2023/06/09 17:57:44 INFO mlflow.tracking._model_registry.client: Waiting up to 300 seconds for model version to finish creation. Model name: SL-XGBoost-Test1, version 1\n",
      "Created version '1' of model 'SL-XGBoost-Test1'.\n"
     ]
    },
    {
     "data": {
      "text/plain": [
       "<mlflow.models.model.ModelInfo at 0x2bba319a0>"
      ]
     },
     "execution_count": 34,
     "metadata": {},
     "output_type": "execute_result"
    }
   ],
   "source": [
    "#log MLflow model\n",
    "mlflow.xgboost.log_model(model, \"artifact\", registered_model_name=\"SL-XGBoost-Test1\")"
   ]
  },
  {
   "cell_type": "markdown",
   "id": "f54c346e",
   "metadata": {},
   "source": [
    "# Model Predictions using Registered Model"
   ]
  },
  {
   "cell_type": "code",
   "execution_count": null,
   "id": "d02d2e28",
   "metadata": {},
   "outputs": [],
   "source": [
    "#predict with MLFlow model(SL-XGBoost-Test1)\n",
    "model = mlflow.xgboost.load_model('models:///XGBoost_Model/Production')\n",
    "print(\"Model: \\n\", model)\n",
    "print(\"=\"*50)\n",
    "print(\"Model:\\n\", model)\n",
    "print(\"=\"*50)\n",
    "prediction = model.predict(X_test)\n",
    "# print(\"Prediction.type:\", type(prediction))\n",
    "# print(\"=\"*50)\n",
    "# print(\"Prediction.shape:\", prediction.shape)\n",
    "# print(\"=\"*50)\n",
    "print(\"Prediction:\\n\", prediction)\n",
    "print(\"Prediction Done.\")"
   ]
  }
 ],
 "metadata": {
  "kernelspec": {
   "display_name": "Python 3 (ipykernel)",
   "language": "python",
   "name": "python3"
  },
  "language_info": {
   "codemirror_mode": {
    "name": "ipython",
    "version": 3
   },
   "file_extension": ".py",
   "mimetype": "text/x-python",
   "name": "python",
   "nbconvert_exporter": "python",
   "pygments_lexer": "ipython3",
   "version": "3.8.16"
  }
 },
 "nbformat": 4,
 "nbformat_minor": 5
}
