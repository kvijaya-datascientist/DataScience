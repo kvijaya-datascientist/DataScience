{
 "cells": [
  {
   "cell_type": "code",
   "execution_count": 1,
   "id": "abea4984",
   "metadata": {},
   "outputs": [],
   "source": [
    "corpus = [\"stack over flow stack over flow text vectorization scikit\", \"stack over flow\"]\n"
   ]
  },
  {
   "cell_type": "markdown",
   "id": "9ce9daf1",
   "metadata": {},
   "source": [
    "# TF-IDF approach"
   ]
  },
  {
   "cell_type": "code",
   "execution_count": 4,
   "id": "f6544cb8",
   "metadata": {},
   "outputs": [],
   "source": [
    "from sklearn.feature_extraction.text import TfidfVectorizer\n",
    "\n",
    "tfidf_vectorizer = TfidfVectorizer()\n",
    "X = tfidf_vectorizer.fit_transform(corpus) # corpus is a collection of documents"
   ]
  },
  {
   "cell_type": "code",
   "execution_count": 6,
   "id": "9e420295",
   "metadata": {},
   "outputs": [
    {
     "name": "stdout",
     "output_type": "stream",
     "text": [
      "{'stack': 3, 'over': 1, 'flow': 0, 'text': 4, 'vectorization': 5, 'scikit': 2}\n"
     ]
    }
   ],
   "source": [
    "print(tfidf_vectorizer.vocabulary_) # vocabulary terms and their index"
   ]
  },
  {
   "cell_type": "code",
   "execution_count": 9,
   "id": "82dc85e1",
   "metadata": {
    "scrolled": true
   },
   "outputs": [
    {
     "name": "stdout",
     "output_type": "stream",
     "text": [
      "  (0, 2)\t0.3319543885703534\n",
      "  (0, 5)\t0.3319543885703534\n",
      "  (0, 4)\t0.3319543885703534\n",
      "  (0, 0)\t0.47237656296879943\n",
      "  (0, 1)\t0.47237656296879943\n",
      "  (0, 3)\t0.47237656296879943\n",
      "  (1, 0)\t0.5773502691896258\n",
      "  (1, 1)\t0.5773502691896258\n",
      "  (1, 3)\t0.5773502691896258\n"
     ]
    }
   ],
   "source": [
    "print(X) # tf-idf weights for each terms belong to a particular document"
   ]
  },
  {
   "cell_type": "markdown",
   "id": "ea0a2341",
   "metadata": {},
   "source": [
    "In above result/output : \n",
    "\n",
    "(0,2) # first document, word = scikit\n",
    "(0,5) # first document, word = vectorization\n",
    "\n",
    "These words came once in the documents. so, high frequency\n",
    "\n",
    "(0,0) , (0,1) , (0,3) occurs 3 times. so frequency is same for all. words = flow, over, stack\n",
    "\n",
    "(1,0) # second document, word = flow\n",
    "\n",
    "(1,1) word = over\n",
    "\n",
    "(1,3) word = stack"
   ]
  },
  {
   "cell_type": "markdown",
   "id": "25924347",
   "metadata": {},
   "source": [
    "# Bag of Words (BoW)"
   ]
  },
  {
   "cell_type": "code",
   "execution_count": 10,
   "id": "b083ca35",
   "metadata": {},
   "outputs": [],
   "source": [
    "from sklearn.feature_extraction.text import CountVectorizer\n",
    "\n",
    "bow_vectorizer = CountVectorizer()\n",
    "\n",
    "X1 = bow_vectorizer.fit_transform(corpus)\n"
   ]
  },
  {
   "cell_type": "code",
   "execution_count": 12,
   "id": "2e840158",
   "metadata": {},
   "outputs": [
    {
     "name": "stdout",
     "output_type": "stream",
     "text": [
      "{'stack': 3, 'over': 1, 'flow': 0, 'text': 4, 'vectorization': 5, 'scikit': 2}\n"
     ]
    }
   ],
   "source": [
    "print(bow_vectorizer.vocabulary_) # vocabulary terms and their index"
   ]
  },
  {
   "cell_type": "code",
   "execution_count": 13,
   "id": "f5bb707f",
   "metadata": {},
   "outputs": [
    {
     "name": "stdout",
     "output_type": "stream",
     "text": [
      "  (0, 3)\t2\n",
      "  (0, 1)\t2\n",
      "  (0, 0)\t2\n",
      "  (0, 4)\t1\n",
      "  (0, 5)\t1\n",
      "  (0, 2)\t1\n",
      "  (1, 3)\t1\n",
      "  (1, 1)\t1\n",
      "  (1, 0)\t1\n"
     ]
    }
   ],
   "source": [
    "print(X1) # BoW weights for each terms belong to a particular documen"
   ]
  },
  {
   "cell_type": "markdown",
   "id": "da721378",
   "metadata": {},
   "source": [
    "In above result:\n",
    "\n",
    "words: stack, over, flow occurs 3 times. so model assigned high frequency to these words"
   ]
  },
  {
   "cell_type": "code",
   "execution_count": null,
   "id": "5b30bddd",
   "metadata": {},
   "outputs": [],
   "source": []
  }
 ],
 "metadata": {
  "kernelspec": {
   "display_name": "Python 3 (ipykernel)",
   "language": "python",
   "name": "python3"
  },
  "language_info": {
   "codemirror_mode": {
    "name": "ipython",
    "version": 3
   },
   "file_extension": ".py",
   "mimetype": "text/x-python",
   "name": "python",
   "nbconvert_exporter": "python",
   "pygments_lexer": "ipython3",
   "version": "3.10.9"
  }
 },
 "nbformat": 4,
 "nbformat_minor": 5
}
